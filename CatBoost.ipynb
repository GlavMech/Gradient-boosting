{
 "cells": [
  {
   "cell_type": "code",
   "execution_count": null,
   "id": "32677ba3",
   "metadata": {},
   "outputs": [],
   "source": [
    "pip install catboost xgboost scikit-learn\n"
   ]
  },
  {
   "cell_type": "code",
   "execution_count": 6,
   "id": "5fe998ce",
   "metadata": {},
   "outputs": [],
   "source": [
    "import pandas as pd\n",
    "from sklearn.model_selection import train_test_split\n",
    "from sklearn.preprocessing import OrdinalEncoder\n",
    "from sklearn.metrics import roc_auc_score\n",
    "from xgboost import XGBClassifier\n",
    "from catboost import CatBoostClassifier\n"
   ]
  },
  {
   "cell_type": "markdown",
   "id": "57e2ad25",
   "metadata": {},
   "source": [
    " Шаг 1. Разделение на обучающую и тестовую выборки (70/30)"
   ]
  },
  {
   "cell_type": "code",
   "execution_count": null,
   "id": "6b565293",
   "metadata": {},
   "outputs": [],
   "source": [
    "df = pd.read_csv('C:/Users/Public/Documents/data.csv')\n",
    "\n",
    "X = df.drop(columns=['isFraud'])\n",
    "y = df['isFraud']\n",
    "\n",
    "# Разделим с random_state для воспроизводимости\n",
    "from sklearn.model_selection import train_test_split\n",
    "\n",
    "X_train, X_test, y_train, y_test = train_test_split(\n",
    "    X, y,\n",
    "    test_size=0.3,\n",
    "    random_state=42,\n",
    "    stratify=y\n",
    ")\n"
   ]
  },
  {
   "cell_type": "markdown",
   "id": "d43962f9",
   "metadata": {},
   "source": [
    "Шаг 2. Обучение CatBoost \"из коробки\" и ROC AUC"
   ]
  },
  {
   "cell_type": "code",
   "execution_count": null,
   "id": "243c7a4f",
   "metadata": {},
   "outputs": [
    {
     "name": "stdout",
     "output_type": "stream",
     "text": [
      "CatBoost ROC AUC: 0.9213\n"
     ]
    },
    {
     "name": "stderr",
     "output_type": "stream",
     "text": [
      "c:\\Users\\фвьшт\\AppData\\Local\\Programs\\Python\\Python311\\Lib\\site-packages\\xgboost\\core.py:248: FutureWarning: Index.format is deprecated and will be removed in a future version. Convert using index.astype(str) or index.map(formatter) instead.\n",
      "  feature_names = data.columns.format()\n"
     ]
    },
    {
     "name": "stdout",
     "output_type": "stream",
     "text": [
      "XGBoost ROC AUC: 0.8911\n"
     ]
    }
   ],
   "source": [
    "# 1. Категориальные признаки\n",
    "cat_features = X.select_dtypes(include=['object']).columns.tolist()\n",
    "\n",
    "# 2. Обработка пропусков\n",
    "# Категориальные пропуски — 'missing'\n",
    "X[cat_features] = X[cat_features].fillna('missing')\n",
    "# Числовые пропуски — -999 (можно и median, если хочешь)\n",
    "X = X.fillna(-999)\n",
    "\n",
    "# 3. Кодируем категориальные признаки\n",
    "encoder = OrdinalEncoder(handle_unknown='use_encoded_value', unknown_value=-1)\n",
    "X[cat_features] = encoder.fit_transform(X[cat_features])\n",
    "\n",
    "# 4. Разделение на train/test\n",
    "X_train, X_test, y_train, y_test = train_test_split(\n",
    "    X, y, test_size=0.3, random_state=42, stratify=y\n",
    ")\n",
    "\n",
    "# 5. Обучение CatBoost\n",
    "model_cat = CatBoostClassifier(verbose=0, random_state=42)\n",
    "model_cat.fit(X_train, y_train)\n",
    "y_pred_cat = model_cat.predict_proba(X_test)[:, 1]\n",
    "roc_auc_cat = roc_auc_score(y_test, y_pred_cat)\n",
    "print(f\"CatBoost ROC AUC: {roc_auc_cat:.4f}\")\n",
    "\n",
    "# 6. Предсказания и ROC AUC\n",
    "y_pred_xgb = model_xgb.predict_proba(X_test)[:, 1]\n",
    "roc_auc_xgb = roc_auc_score(y_test, y_pred_xgb)\n",
    "\n",
    "print(f\"XGBoost ROC AUC: {roc_auc_xgb:.4f}\")\n"
   ]
  },
  {
   "cell_type": "markdown",
   "id": "204dee67",
   "metadata": {},
   "source": [
    " Шаг 3. Обучение XGBoost \"из коробки\" и ROC AUC"
   ]
  },
  {
   "cell_type": "code",
   "execution_count": 9,
   "id": "7ea76ddc",
   "metadata": {},
   "outputs": [
    {
     "name": "stderr",
     "output_type": "stream",
     "text": [
      "c:\\Users\\фвьшт\\AppData\\Local\\Programs\\Python\\Python311\\Lib\\site-packages\\xgboost\\core.py:248: FutureWarning: Index.format is deprecated and will be removed in a future version. Convert using index.astype(str) or index.map(formatter) instead.\n",
      "  feature_names = data.columns.format()\n",
      "c:\\Users\\фвьшт\\AppData\\Local\\Programs\\Python\\Python311\\Lib\\site-packages\\xgboost\\core.py:248: FutureWarning: Index.format is deprecated and will be removed in a future version. Convert using index.astype(str) or index.map(formatter) instead.\n",
      "  feature_names = data.columns.format()\n"
     ]
    },
    {
     "name": "stdout",
     "output_type": "stream",
     "text": [
      "XGBoost ROC AUC: 0.8911\n"
     ]
    }
   ],
   "source": [
    "model_xgb = XGBClassifier(use_label_encoder=False, eval_metric='logloss', random_state=42)\n",
    "model_xgb.fit(X_train, y_train)\n",
    "\n",
    "y_pred_xgb = model_xgb.predict_proba(X_test)[:, 1]\n",
    "\n",
    "roc_auc_xgb = roc_auc_score(y_test, y_pred_xgb)\n",
    "print(f\"XGBoost ROC AUC: {roc_auc_xgb:.4f}\")\n"
   ]
  },
  {
   "cell_type": "markdown",
   "id": "7291ec90",
   "metadata": {},
   "source": [
    " Сравнение моделей"
   ]
  },
  {
   "cell_type": "code",
   "execution_count": 10,
   "id": "517b2181",
   "metadata": {},
   "outputs": [
    {
     "name": "stdout",
     "output_type": "stream",
     "text": [
      "CatBoost показал себя лучше в базовом варианте.\n"
     ]
    }
   ],
   "source": [
    "if roc_auc_xgb > roc_auc_cat:\n",
    "    print(\"XGBoost показал себя лучше в базовом варианте.\")\n",
    "else:\n",
    "    print(\"CatBoost показал себя лучше в базовом варианте.\")\n",
    "\n"
   ]
  },
  {
   "cell_type": "markdown",
   "id": "caafab05",
   "metadata": {},
   "source": [
    "Шаг 4. Настройка XGBoost вручную для улучшения ROC AUC"
   ]
  },
  {
   "cell_type": "code",
   "execution_count": 11,
   "id": "5b06275d",
   "metadata": {},
   "outputs": [
    {
     "name": "stderr",
     "output_type": "stream",
     "text": [
      "c:\\Users\\фвьшт\\AppData\\Local\\Programs\\Python\\Python311\\Lib\\site-packages\\xgboost\\core.py:248: FutureWarning: Index.format is deprecated and will be removed in a future version. Convert using index.astype(str) or index.map(formatter) instead.\n",
      "  feature_names = data.columns.format()\n",
      "c:\\Users\\фвьшт\\AppData\\Local\\Programs\\Python\\Python311\\Lib\\site-packages\\xgboost\\core.py:248: FutureWarning: Index.format is deprecated and will be removed in a future version. Convert using index.astype(str) or index.map(formatter) instead.\n",
      "  feature_names = data.columns.format()\n"
     ]
    },
    {
     "name": "stdout",
     "output_type": "stream",
     "text": [
      "XGBoost (tuned) ROC AUC: 0.9102\n"
     ]
    }
   ],
   "source": [
    "model_xgb_tuned = XGBClassifier(\n",
    "    n_estimators=300,\n",
    "    learning_rate=0.05,\n",
    "    max_depth=4,\n",
    "    reg_alpha=0.5,\n",
    "    reg_lambda=1,\n",
    "    subsample=0.8,\n",
    "    colsample_bytree=0.8,\n",
    "    use_label_encoder=False,\n",
    "    eval_metric='logloss',\n",
    "    random_state=42\n",
    ")\n",
    "\n",
    "model_xgb_tuned.fit(X_train, y_train)\n",
    "y_pred_xgb_tuned = model_xgb_tuned.predict_proba(X_test)[:, 1]\n",
    "roc_auc_xgb_tuned = roc_auc_score(y_test, y_pred_xgb_tuned)\n",
    "print(f\"XGBoost (tuned) ROC AUC: {roc_auc_xgb_tuned:.4f}\")\n"
   ]
  },
  {
   "cell_type": "markdown",
   "id": "79e0123a",
   "metadata": {},
   "source": [
    " Финальный вывод"
   ]
  },
  {
   "cell_type": "code",
   "execution_count": 12,
   "id": "e8afc343",
   "metadata": {},
   "outputs": [
    {
     "name": "stdout",
     "output_type": "stream",
     "text": [
      "CatBoost ROC AUC: 0.9213\n",
      "XGBoost (default) ROC AUC: 0.8911\n",
      "XGBoost (tuned) ROC AUC: 0.9102\n",
      "Даже после настройки XGBoost не обошёл CatBoost.\n"
     ]
    }
   ],
   "source": [
    "print(f\"CatBoost ROC AUC: {roc_auc_cat:.4f}\")\n",
    "print(f\"XGBoost (default) ROC AUC: {roc_auc_xgb:.4f}\")\n",
    "print(f\"XGBoost (tuned) ROC AUC: {roc_auc_xgb_tuned:.4f}\")\n",
    "\n",
    "if roc_auc_xgb_tuned > roc_auc_cat:\n",
    "    print(\"После настройки XGBoost стал лучше CatBoost.\")\n",
    "else:\n",
    "    print(\"Даже после настройки XGBoost не обошёл CatBoost.\")\n"
   ]
  }
 ],
 "metadata": {
  "kernelspec": {
   "display_name": "Python 3",
   "language": "python",
   "name": "python3"
  },
  "language_info": {
   "codemirror_mode": {
    "name": "ipython",
    "version": 3
   },
   "file_extension": ".py",
   "mimetype": "text/x-python",
   "name": "python",
   "nbconvert_exporter": "python",
   "pygments_lexer": "ipython3",
   "version": "3.11.7"
  }
 },
 "nbformat": 4,
 "nbformat_minor": 5
}
